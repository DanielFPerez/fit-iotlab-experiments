{
 "cells": [
  {
   "cell_type": "code",
   "execution_count": 1,
   "id": "5d2ae13a-4124-4215-8867-abbb254e71c8",
   "metadata": {},
   "outputs": [],
   "source": [
    "import json\n",
    "import matplotlib.pyplot as plt\n",
    "from mpl_toolkits.mplot3d import Axes3D\n",
    "import random\n",
    "import plotly.graph_objs as go\n",
    "import plotly.io as pio\n"
   ]
  },
  {
   "cell_type": "code",
   "execution_count": 2,
   "id": "11daa158-d009-4805-863f-dc5f1b36a73c",
   "metadata": {},
   "outputs": [],
   "source": [
    "# Path to the local file\n",
    "file_path = './lille-nodes_metadata.json'\n",
    "\n",
    "# Reading the JSON data from the local file\n",
    "with open(file_path, 'r') as file:\n",
    "    data = json.load(file)\n"
   ]
  },
  {
   "cell_type": "code",
   "execution_count": 8,
   "id": "a47ad302-7e49-4e56-b5da-298cfa34c3fe",
   "metadata": {
    "scrolled": true
   },
   "outputs": [],
   "source": [
    "def generate_3d_interactive_plot(nodes_dict):\n",
    "\n",
    "    x_vals = [node[\"x\"] for node in nodes_dict.values()]\n",
    "    y_vals = [node[\"y\"] for node in nodes_dict.values()]\n",
    "    z_vals = [node[\"z\"] for node in nodes_dict.values()]\n",
    "    ids = [node[\"id\"] for node in nodes_dict.values()]\n",
    "    \n",
    "    pio.renderers.default = 'iframe'\n",
    "\n",
    "    # Create the 3D scatter plot using Plotly\n",
    "    trace = go.Scatter3d(\n",
    "        x=x_vals,\n",
    "        y=y_vals,\n",
    "        z=z_vals,\n",
    "        mode='markers+text',\n",
    "        text=ids,\n",
    "        marker=dict(\n",
    "            size=8,\n",
    "            color='red',\n",
    "            opacity=0.8\n",
    "        )\n",
    "    )\n",
    "    \n",
    "    # Set up the layout\n",
    "    layout = go.Layout(\n",
    "        scene=dict(\n",
    "            xaxis_title='X Coordinate',\n",
    "            yaxis_title='Y Coordinate',\n",
    "            zaxis_title='Z Coordinate',\n",
    "            aspectmode='data'\n",
    "        ),\n",
    "        title='Interactive 3D Visualization of Nodes', \n",
    "        #scene=dict(aspectmode='data')#,width=2000,   # Increase the width, height=800    # Increase the height\n",
    "    )\n",
    "    \n",
    "    # Create the figure\n",
    "    fig = go.Figure(data=[trace], layout=layout)\n",
    "    \n",
    "    # Display the plot\n",
    "    fig.show()"
   ]
  },
  {
   "cell_type": "code",
   "execution_count": 9,
   "id": "877367c2-e213-43a9-91b8-d031d5b84794",
   "metadata": {},
   "outputs": [
    {
     "data": {
      "text/html": [
       "<iframe\n",
       "    scrolling=\"no\"\n",
       "    width=\"100%\"\n",
       "    height=\"545px\"\n",
       "    src=\"iframe_figures/figure_9.html\"\n",
       "    frameborder=\"0\"\n",
       "    allowfullscreen\n",
       "></iframe>\n"
      ]
     },
     "metadata": {},
     "output_type": "display_data"
    }
   ],
   "source": [
    "generate_3d_interactive_plot(data['nodes'])"
   ]
  },
  {
   "cell_type": "code",
   "execution_count": 12,
   "id": "da1bea15-8968-4788-b3f6-1bfdf265755e",
   "metadata": {},
   "outputs": [
    {
     "data": {
      "text/plain": [
       "235"
      ]
     },
     "execution_count": 12,
     "metadata": {},
     "output_type": "execute_result"
    }
   ],
   "source": [
    "len(data['nodes'])"
   ]
  },
  {
   "cell_type": "markdown",
   "id": "c113b504-6a5e-46d2-ac12-f93938878353",
   "metadata": {},
   "source": [
    "## Filter some nodes"
   ]
  },
  {
   "cell_type": "code",
   "execution_count": 20,
   "id": "f62aea74-e98d-45d0-af7a-aa6c9f207508",
   "metadata": {},
   "outputs": [
    {
     "name": "stdout",
     "output_type": "stream",
     "text": [
      "nodes sampled\n"
     ]
    }
   ],
   "source": [
    "# Voxel size\n",
    "voxel_size = (4, 4, 1)\n",
    "\n",
    "# Convert node coordinates to array format\n",
    "nodes = [(node[\"id\"], node[\"x\"], node[\"y\"], node[\"z\"]) for node in data[\"nodes\"].values()]\n",
    "\n",
    "# Calculate voxel indices for each node\n",
    "voxel_dict = {}\n",
    "for node_id, x, y, z in nodes:\n",
    "    voxel_index = (int(x // voxel_size[0]), int(y // voxel_size[1]), int(z // voxel_size[2]))\n",
    "    if voxel_index not in voxel_dict:\n",
    "        voxel_dict[voxel_index] = []\n",
    "    voxel_dict[voxel_index].append(node_id)\n",
    "\n",
    "# Select a random node from each non-empty voxel\n",
    "sampled_nodes = {}\n",
    "for voxel_index, node_ids in voxel_dict.items():\n",
    "    sampled_node = random.choice(node_ids)\n",
    "    sampled_nodes[sampled_node] = data[\"nodes\"][sampled_node]\n",
    "\n",
    "# Output the sampled nodes\n",
    "print(\"nodes sampled\")"
   ]
  },
  {
   "cell_type": "code",
   "execution_count": 21,
   "id": "2f4042ca-e7f2-4465-b74c-df62ea490e6c",
   "metadata": {},
   "outputs": [
    {
     "data": {
      "text/plain": [
       "106"
      ]
     },
     "execution_count": 21,
     "metadata": {},
     "output_type": "execute_result"
    }
   ],
   "source": [
    "len(sampled_nodes)"
   ]
  },
  {
   "cell_type": "code",
   "execution_count": 22,
   "id": "3543fe70-bc5b-4b87-8a0b-910706662f62",
   "metadata": {},
   "outputs": [
    {
     "data": {
      "text/html": [
       "<iframe\n",
       "    scrolling=\"no\"\n",
       "    width=\"100%\"\n",
       "    height=\"545px\"\n",
       "    src=\"iframe_figures/figure_22.html\"\n",
       "    frameborder=\"0\"\n",
       "    allowfullscreen\n",
       "></iframe>\n"
      ]
     },
     "metadata": {},
     "output_type": "display_data"
    }
   ],
   "source": [
    "generate_3d_interactive_plot(sampled_nodes)"
   ]
  },
  {
   "cell_type": "code",
   "execution_count": null,
   "id": "22a9d4d3-33e0-4dc0-8011-3c848739c8de",
   "metadata": {},
   "outputs": [],
   "source": []
  },
  {
   "cell_type": "code",
   "execution_count": null,
   "id": "a43769a9-3fc0-4058-996c-c15d768b8b6b",
   "metadata": {},
   "outputs": [],
   "source": []
  },
  {
   "cell_type": "code",
   "execution_count": null,
   "id": "7aad85bf-6081-45c0-aed5-1fc806f14237",
   "metadata": {},
   "outputs": [],
   "source": []
  },
  {
   "cell_type": "code",
   "execution_count": null,
   "id": "3af3f6de-044f-45b0-bdcd-e88da01a93e8",
   "metadata": {},
   "outputs": [],
   "source": []
  },
  {
   "cell_type": "code",
   "execution_count": null,
   "id": "309b9076-c4fa-4d58-8620-0ddd362da930",
   "metadata": {},
   "outputs": [],
   "source": []
  },
  {
   "cell_type": "code",
   "execution_count": null,
   "id": "6159c1af-6b65-4a29-aafc-9ebd2d5b9dbe",
   "metadata": {},
   "outputs": [],
   "source": []
  },
  {
   "cell_type": "code",
   "execution_count": null,
   "id": "99acb296-fcf0-44d4-9363-308bbe312eeb",
   "metadata": {},
   "outputs": [],
   "source": []
  },
  {
   "cell_type": "code",
   "execution_count": null,
   "id": "7cf1da14-d59c-47d3-b434-d136a1feb3f9",
   "metadata": {},
   "outputs": [],
   "source": []
  },
  {
   "cell_type": "code",
   "execution_count": null,
   "id": "6f3e5912-00cd-42b4-88e1-0363da4f6029",
   "metadata": {},
   "outputs": [],
   "source": []
  },
  {
   "cell_type": "code",
   "execution_count": null,
   "id": "92fd9e12-288d-46c4-b04e-71b0c3a67d02",
   "metadata": {},
   "outputs": [],
   "source": []
  },
  {
   "cell_type": "code",
   "execution_count": null,
   "id": "f0be2f52-19ff-4f39-b584-5d15650f592c",
   "metadata": {},
   "outputs": [],
   "source": []
  }
 ],
 "metadata": {
  "kernelspec": {
   "display_name": "Python 3 (ipykernel)",
   "language": "python",
   "name": "python3"
  },
  "language_info": {
   "codemirror_mode": {
    "name": "ipython",
    "version": 3
   },
   "file_extension": ".py",
   "mimetype": "text/x-python",
   "name": "python",
   "nbconvert_exporter": "python",
   "pygments_lexer": "ipython3",
   "version": "3.10.12"
  }
 },
 "nbformat": 4,
 "nbformat_minor": 5
}
