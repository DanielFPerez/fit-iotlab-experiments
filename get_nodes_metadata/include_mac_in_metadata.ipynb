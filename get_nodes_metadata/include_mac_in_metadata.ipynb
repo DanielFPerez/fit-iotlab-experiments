{
 "cells": [
  {
   "cell_type": "code",
   "execution_count": 1,
   "id": "27690939-5306-4e63-b7a1-e6e6495630fe",
   "metadata": {},
   "outputs": [],
   "source": [
    "import json\n",
    "import re"
   ]
  },
  {
   "cell_type": "code",
   "execution_count": 2,
   "id": "c9f49f1f-36ce-4130-a585-b141108f455e",
   "metadata": {},
   "outputs": [],
   "source": [
    "# Load the JSON data\n",
    "\n",
    "experiment = '407557-MAC'\n",
    "site = 'lille'\n",
    "\n",
    "metadata_PATH = f\"./{site}-nodes_metadata.json\"\n",
    "mac_PATH = f'../experiments/{experiment}/serial_output.txt'\n",
    "\n",
    "dst_FILE = f\"./{site}-nodes_metadata_with-mac.json\"\n",
    "\n",
    "with open(metadata_PATH, 'rb') as json_file:\n",
    "    data = json.load(json_file)"
   ]
  },
  {
   "cell_type": "code",
   "execution_count": 3,
   "id": "65159a0f-daae-4edd-8976-3c452708826b",
   "metadata": {},
   "outputs": [
    {
     "data": {
      "text/plain": [
       "{'x': 22.11, 'y': 12.5, 'z': 9.6, 'id': '233', 'uid': '8873'}"
      ]
     },
     "execution_count": 3,
     "metadata": {},
     "output_type": "execute_result"
    }
   ],
   "source": [
    "data['nodes']['233']"
   ]
  },
  {
   "cell_type": "code",
   "execution_count": 4,
   "id": "c9b73f49-9001-40db-b2b5-c9c87ab06f50",
   "metadata": {},
   "outputs": [
    {
     "name": "stdout",
     "output_type": "stream",
     "text": [
      "ID 28\tMAC:2.0.0.0.0.0.183.112\tSHORT-MAC: 183.112\n",
      "ID 11\tMAC:2.0.0.0.0.0.36.85\tSHORT-MAC: 36.85\n",
      "ID 176\tMAC:2.0.0.0.0.0.37.85\tSHORT-MAC: 37.85\n",
      "ID 240\tMAC:2.0.0.0.0.0.178.136\tSHORT-MAC: 178.136\n",
      "ID 104\tMAC:2.0.0.0.0.0.19.89\tSHORT-MAC: 19.89\n",
      "ID 22\tMAC:2.0.0.0.0.0.55.88\tSHORT-MAC: 55.88\n",
      "ID 169\tMAC:2.0.0.0.0.0.20.89\tSHORT-MAC: 20.89\n",
      "ID 14\tMAC:2.0.0.0.0.0.8.87\tSHORT-MAC: 8.87\n",
      "ID 138\tMAC:2.0.0.0.0.0.35.85\tSHORT-MAC: 35.85\n",
      "ID 244\tMAC:2.0.0.0.0.0.18.88\tSHORT-MAC: 18.88\n",
      "ID 137\tMAC:2.0.0.0.0.0.38.85\tSHORT-MAC: 38.85\n",
      "ID 135\tMAC:2.0.0.0.0.0.17.88\tSHORT-MAC: 17.88\n",
      "ID 195\tMAC:2.0.0.0.0.0.179.136\tSHORT-MAC: 179.136\n",
      "ID 158\tMAC:2.0.0.0.0.0.33.84\tSHORT-MAC: 33.84\n",
      "ID 101\tMAC:2.0.0.0.0.0.184.112\tSHORT-MAC: 184.112\n",
      "ID 141\tMAC:2.0.0.0.0.0.16.88\tSHORT-MAC: 16.88\n",
      "ID 157\tMAC:2.0.0.0.0.0.39.85\tSHORT-MAC: 39.85\n",
      "ID 56\tMAC:2.0.0.0.0.0.162.115\tSHORT-MAC: 162.115\n",
      "ID 197\tMAC:2.0.0.0.0.0.9.87\tSHORT-MAC: 9.87\n",
      "ID 102\tMAC:2.0.0.0.0.0.24.89\tSHORT-MAC: 24.89\n",
      "stopped printing debug info\n"
     ]
    }
   ],
   "source": [
    "ids = []\n",
    "# Parse the .txt file\n",
    "with open(mac_PATH, 'r') as txt_file:\n",
    "    for line in txt_file:\n",
    "        # Extract node_id and MAC address\n",
    "        match = re.search(r\"m3-(\\d+);MAC address: { ([\\d.]+) }\", line)\n",
    "        if match:\n",
    "            node_id = int(match.group(1))\n",
    "            mac_address = match.group(2)\n",
    "            mac_parts = mac_address.split('.')\n",
    "            last_two_mac = f\"{mac_parts[-2]}.{mac_parts[-1]}\" if len(mac_parts) >= 2 else mac_address\n",
    "\n",
    "            if len(ids) < 20: \n",
    "                print(f\"ID {node_id}\\tMAC:{mac_address}\\tSHORT-MAC: {last_two_mac}\")\n",
    "            elif len(ids) == 20: \n",
    "                print(f\"stopped printing debug info\")\n",
    "            \n",
    "            # Find the node in the JSON data and append the MAC information\n",
    "            data['nodes'][str(node_id)]['MAC'] = mac_address\n",
    "            data['nodes'][str(node_id)]['MAC-SHORT'] = last_two_mac\n",
    "        \n",
    "            ids.append(node_id)"
   ]
  },
  {
   "cell_type": "code",
   "execution_count": 5,
   "id": "d1d3e736-a75d-431e-ab1a-719c0cac7940",
   "metadata": {},
   "outputs": [
    {
     "name": "stdout",
     "output_type": "stream",
     "text": [
      "MAC address for 235 nodes added\n"
     ]
    }
   ],
   "source": [
    "print(f\"MAC address for {len(ids)} nodes added\")"
   ]
  },
  {
   "cell_type": "code",
   "execution_count": 6,
   "id": "4e5d4d3b-795f-4951-9a95-16cf34f45073",
   "metadata": {},
   "outputs": [
    {
     "name": "stdout",
     "output_type": "stream",
     "text": [
      "NO MAC ADDRESS FOR NODE: 133, ID: 133\n"
     ]
    }
   ],
   "source": [
    "# Check that all node elems in json have attribute MAC\n",
    "for node_id, item in data['nodes'].items():\n",
    "    if 'MAC' not in item:\n",
    "        print(f\"NO MAC ADDRESS FOR NODE: {item['id']}, ID: {node_id}\")"
   ]
  },
  {
   "cell_type": "code",
   "execution_count": 10,
   "id": "501b98e6-24ae-491e-965d-da86c8d55992",
   "metadata": {},
   "outputs": [
    {
     "data": {
      "text/plain": [
       "{'x': 22.11, 'y': 0.3, 'z': 7.6, 'id': '133', 'uid': '8974'}"
      ]
     },
     "execution_count": 10,
     "metadata": {},
     "output_type": "execute_result"
    }
   ],
   "source": [
    "data['nodes']['133']"
   ]
  },
  {
   "cell_type": "code",
   "execution_count": 11,
   "id": "15fd9619-e569-457f-b9ad-c49fb18523f1",
   "metadata": {},
   "outputs": [
    {
     "name": "stdout",
     "output_type": "stream",
     "text": [
      "MAC addresses appended successfully.\n"
     ]
    }
   ],
   "source": [
    "# Save the updated JSON data\n",
    "with open(dst_FILE, 'w') as json_file:\n",
    "    json.dump(data, json_file, indent=4)\n",
    "\n",
    "print(\"MAC addresses appended successfully.\")"
   ]
  },
  {
   "cell_type": "code",
   "execution_count": null,
   "id": "c79ce73c-b847-42f3-9a59-a5cf049f3abd",
   "metadata": {},
   "outputs": [],
   "source": []
  },
  {
   "cell_type": "code",
   "execution_count": null,
   "id": "4581816e-c565-4a50-a632-7ae82a657667",
   "metadata": {},
   "outputs": [],
   "source": []
  },
  {
   "cell_type": "code",
   "execution_count": null,
   "id": "fc7fb8d7-94b5-4dc6-9920-953b4c3ba5ad",
   "metadata": {},
   "outputs": [],
   "source": []
  },
  {
   "cell_type": "code",
   "execution_count": null,
   "id": "b26db0da-ba8d-4efa-a091-c9ddc4cc5540",
   "metadata": {},
   "outputs": [],
   "source": []
  },
  {
   "cell_type": "code",
   "execution_count": null,
   "id": "03a6d4e5-270f-4ade-866e-55e4bea9a0e8",
   "metadata": {},
   "outputs": [],
   "source": []
  },
  {
   "cell_type": "code",
   "execution_count": null,
   "id": "9613dbab-d619-419e-aea6-640cb2c03a70",
   "metadata": {},
   "outputs": [],
   "source": []
  },
  {
   "cell_type": "code",
   "execution_count": 29,
   "id": "314956b1-f675-4329-bc44-b5604b6f3fad",
   "metadata": {},
   "outputs": [],
   "source": [
    "import json\n",
    "\n",
    "read_PATH = \"./lille-nodes_metadata_with-mac.json\"\n",
    "write_PATH = \"./deployment_mapping.c\"\n",
    "\n",
    "COORDINATOR_ID = 238\n",
    "\n",
    "# Load the JSON file\n",
    "with open(read_PATH, 'rb') as f:\n",
    "    data = json.load(f)\n"
   ]
  },
  {
   "cell_type": "code",
   "execution_count": 34,
   "id": "b8b8d46f-f018-4d7c-8372-cf418aa7428b",
   "metadata": {},
   "outputs": [],
   "source": [
    "node_id, node_data = next(iter(data[\"nodes\"].items()))"
   ]
  },
  {
   "cell_type": "code",
   "execution_count": 35,
   "id": "6f7203fc-be79-4994-ba88-88bbb36dc09c",
   "metadata": {},
   "outputs": [
    {
     "name": "stdout",
     "output_type": "stream",
     "text": [
      "{'x': 31.71, 'y': 10.1, 'z': 9.6, 'id': '223', 'uid': 'a289', 'MAC': '2.0.0.0.0.0.162.137', 'MAC-SHORT': '162.137'}\n"
     ]
    }
   ],
   "source": [
    "print(node_data)"
   ]
  },
  {
   "cell_type": "code",
   "execution_count": 32,
   "id": "760cb593-e9aa-46aa-be6d-b87773940bfb",
   "metadata": {},
   "outputs": [
    {
     "data": {
      "text/plain": [
       "['2', '0', '0', '0', '0', '0', '162', '137']"
      ]
     },
     "execution_count": 32,
     "metadata": {},
     "output_type": "execute_result"
    }
   ],
   "source": [
    "node_data[\"MAC\"].split('.')"
   ]
  },
  {
   "cell_type": "code",
   "execution_count": 38,
   "id": "a20cdac2-306e-4bc7-8ed4-b4641586ece5",
   "metadata": {},
   "outputs": [
    {
     "name": "stdout",
     "output_type": "stream",
     "text": [
      "Node 1 has MAC address ['2', '0', '0', '0', '0', '0', '144', '116']\n",
      "Node 2 has MAC address ['2', '0', '0', '0', '0', '0', '167', '144']\n",
      "Node 3 has MAC address ['2', '0', '0', '0', '0', '0', '21', '82']\n",
      "Node 4 has MAC address ['2', '0', '0', '0', '0', '0', '56', '89']\n",
      "Node 5 has MAC address ['2', '0', '0', '0', '0', '0', '20', '87']\n",
      "Node 6 has MAC address ['2', '0', '0', '0', '0', '0', '21', '84']\n",
      "Node 8 has no MAC address\n",
      "Node 9 has MAC address ['2', '0', '0', '0', '0', '0', '5', '97']\n",
      "Node 11 has MAC address ['2', '0', '0', '0', '0', '0', '36', '85']\n",
      "Node 12 has MAC address ['2', '0', '0', '0', '0', '0', '165', '144']\n",
      "Node 13 has MAC address ['2', '0', '0', '0', '0', '0', '18', '85']\n",
      "Node 14 has MAC address ['2', '0', '0', '0', '0', '0', '8', '87']\n",
      "Node 15 has MAC address ['2', '0', '0', '0', '0', '0', '52', '84']\n",
      "Node 17 has MAC address ['2', '0', '0', '0', '0', '0', '16', '97']\n",
      "Node 18 has MAC address ['2', '0', '0', '0', '0', '0', '152', '115']\n",
      "Node 19 has MAC address ['2', '0', '0', '0', '0', '0', '178', '114']\n",
      "Node 20 has MAC address ['2', '0', '0', '0', '0', '0', '184', '115']\n",
      "Node 21 has MAC address ['2', '0', '0', '0', '0', '0', '163', '115']\n",
      "Node 22 has MAC address ['2', '0', '0', '0', '0', '0', '55', '88']\n",
      "Node 23 has MAC address ['2', '0', '0', '0', '0', '0', '153', '115']\n",
      "Node 24 has MAC address ['2', '0', '0', '0', '0', '0', '180', '114']\n",
      "Node 25 has MAC address ['2', '0', '0', '0', '0', '0', '39', '88']\n",
      "Node 26 has MAC address ['2', '0', '0', '0', '0', '0', '24', '82']\n",
      "Node 27 has MAC address ['2', '0', '0', '0', '0', '0', '161', '112']\n",
      "Node 28 has MAC address ['2', '0', '0', '0', '0', '0', '183', '112']\n",
      "Node 29 has MAC address ['2', '0', '0', '0', '0', '0', '18', '87']\n",
      "Node 30 has MAC address ['2', '0', '0', '0', '0', '0', '163', '137']\n",
      "Node 31 has MAC address ['2', '0', '0', '0', '0', '0', '25', '84']\n",
      "Node 32 has MAC address ['2', '0', '0', '0', '0', '0', '51', '88']\n",
      "Node 33 has MAC address ['2', '0', '0', '0', '0', '0', '49', '88']\n",
      "Node 34 has MAC address ['2', '0', '0', '0', '0', '0', '135', '115']\n",
      "Node 35 has MAC address ['2', '0', '0', '0', '0', '0', '51', '85']\n",
      "Node 36 has MAC address ['2', '0', '0', '0', '0', '0', '149', '119']\n",
      "Node 37 has MAC address ['2', '0', '0', '0', '0', '0', '39', '84']\n",
      "Node 38 has MAC address ['2', '0', '0', '0', '0', '0', '56', '88']\n",
      "Node 39 has MAC address ['2', '0', '0', '0', '0', '0', '33', '82']\n",
      "Node 40 has MAC address ['2', '0', '0', '0', '0', '0', '178', '115']\n",
      "Node 41 has MAC address ['2', '0', '0', '0', '0', '0', '37', '82']\n",
      "Node 42 has MAC address ['2', '0', '0', '0', '0', '0', '168', '137']\n",
      "Node 43 has MAC address ['2', '0', '0', '0', '0', '0', '20', '84']\n",
      "Node 44 has MAC address ['2', '0', '0', '0', '0', '0', '38', '81']\n",
      "Node 45 has MAC address ['2', '0', '0', '0', '0', '0', '181', '113']\n",
      "Node 46 has MAC address ['2', '0', '0', '0', '0', '0', '183', '114']\n",
      "Node 47 has MAC address ['2', '0', '0', '0', '0', '0', '24', '84']\n",
      "Node 48 has MAC address ['2', '0', '0', '0', '0', '0', '9', '86']\n",
      "Node 49 has MAC address ['2', '0', '0', '0', '0', '0', '33', '89']\n",
      "Node 50 has MAC address ['2', '0', '0', '0', '0', '0', '178', '137']\n",
      "Node 51 has MAC address ['2', '0', '0', '0', '0', '0', '185', '115']\n",
      "Node 53 has MAC address ['2', '0', '0', '0', '0', '0', '22', '81']\n",
      "Node 54 has MAC address ['2', '0', '0', '0', '0', '0', '49', '81']\n",
      "Node 55 has MAC address ['2', '0', '0', '0', '0', '0', '183', '113']\n",
      "Node 56 has MAC address ['2', '0', '0', '0', '0', '0', '162', '115']\n",
      "Node 57 has MAC address ['2', '0', '0', '0', '0', '0', '18', '86']\n",
      "Node 58 has MAC address ['2', '0', '0', '0', '0', '0', '134', '116']\n",
      "Node 59 has MAC address ['2', '0', '0', '0', '0', '0', '178', '113']\n",
      "Node 60 has MAC address ['2', '0', '0', '0', '0', '0', '7', '97']\n",
      "Node 61 has MAC address ['2', '0', '0', '0', '0', '0', '50', '84']\n",
      "Node 62 has MAC address ['2', '0', '0', '0', '0', '0', '35', '89']\n",
      "Node 63 has MAC address ['2', '0', '0', '0', '0', '0', '192', '112']\n",
      "Node 64 has MAC address ['2', '0', '0', '0', '0', '0', '23', '88']\n",
      "Node 65 has MAC address ['2', '0', '0', '0', '0', '0', '180', '115']\n",
      "Node 66 has MAC address ['2', '0', '0', '0', '0', '0', '24', '87']\n",
      "Node 67 has MAC address ['2', '0', '0', '0', '0', '0', '25', '87']\n",
      "Node 68 has MAC address ['2', '0', '0', '0', '0', '0', '40', '85']\n",
      "Node 69 has MAC address ['2', '0', '0', '0', '0', '0', '166', '137']\n",
      "Node 70 has MAC address ['2', '0', '0', '0', '0', '0', '160', '112']\n",
      "Node 71 has MAC address ['2', '0', '0', '0', '0', '0', '22', '84']\n",
      "Node 72 has MAC address ['2', '0', '0', '0', '0', '0', '153', '119']\n",
      "Node 74 has MAC address ['2', '0', '0', '0', '0', '0', '25', '81']\n",
      "Node 75 has MAC address ['2', '0', '0', '0', '0', '0', '137', '115']\n",
      "Node 76 has MAC address ['2', '0', '0', '0', '0', '0', '41', '85']\n",
      "Node 77 has MAC address ['2', '0', '0', '0', '0', '0', '23', '86']\n",
      "Node 78 has MAC address ['2', '0', '0', '0', '0', '0', '34', '80']\n",
      "Node 79 has MAC address ['2', '0', '0', '0', '0', '0', '8', '97']\n",
      "Node 80 has MAC address ['2', '0', '0', '0', '0', '0', '39', '80']\n",
      "Node 81 has MAC address ['2', '0', '0', '0', '0', '0', '21', '86']\n",
      "Node 82 has MAC address ['2', '0', '0', '0', '0', '0', '33', '86']\n",
      "Node 83 has MAC address ['2', '0', '0', '0', '0', '0', '164', '137']\n",
      "Node 84 has MAC address ['2', '0', '0', '0', '0', '0', '147', '112']\n",
      "Node 85 has MAC address ['2', '0', '0', '0', '0', '0', '151', '115']\n",
      "Node 86 has MAC address ['2', '0', '0', '0', '0', '0', '180', '113']\n",
      "Node 87 has MAC address ['2', '0', '0', '0', '0', '0', '33', '85']\n",
      "Node 88 has MAC address ['2', '0', '0', '0', '0', '0', '192', '115']\n",
      "Node 89 has MAC address ['2', '0', '0', '0', '0', '0', '169', '144']\n",
      "Node 99 has no MAC address\n",
      "Node 100 has MAC address ['2', '0', '0', '0', '0', '0', '153', '137']\n",
      "Node 101 has MAC address ['2', '0', '0', '0', '0', '0', '184', '112']\n",
      "Node 102 has MAC address ['2', '0', '0', '0', '0', '0', '24', '89']\n",
      "Node 103 has MAC address ['2', '0', '0', '0', '0', '0', '9', '88']\n",
      "Node 104 has MAC address ['2', '0', '0', '0', '0', '0', '19', '89']\n",
      "Node 105 has MAC address ['2', '0', '0', '0', '0', '0', '52', '88']\n",
      "Node 106 has MAC address ['2', '0', '0', '0', '0', '0', '168', '113']\n",
      "Node 107 has MAC address ['2', '0', '0', '0', '0', '0', '7', '89']\n",
      "Node 108 has MAC address ['2', '0', '0', '0', '0', '0', '22', '88']\n",
      "Node 109 has MAC address ['2', '0', '0', '0', '0', '0', '134', '115']\n",
      "Node 110 has MAC address ['2', '0', '0', '0', '0', '0', '133', '115']\n",
      "Node 111 has MAC address ['2', '0', '0', '0', '0', '0', '34', '87']\n",
      "Node 114 has MAC address ['2', '0', '0', '0', '0', '0', '33', '88']\n",
      "Node 115 has MAC address ['2', '0', '0', '0', '0', '0', '145', '112']\n",
      "Node 116 has MAC address ['2', '0', '0', '0', '0', '0', '33', '80']\n",
      "Node 117 has MAC address ['2', '0', '0', '0', '0', '0', '131', '116']\n",
      "Node 118 has MAC address ['2', '0', '0', '0', '0', '0', '19', '88']\n",
      "Node 120 has MAC address ['2', '0', '0', '0', '0', '0', '39', '89']\n",
      "Node 122 has MAC address ['2', '0', '0', '0', '0', '0', '36', '82']\n",
      "Node 123 has MAC address ['2', '0', '0', '0', '0', '0', '133', '116']\n",
      "Node 124 has MAC address ['2', '0', '0', '0', '0', '0', '50', '88']\n",
      "Node 125 has MAC address ['2', '0', '0', '0', '0', '0', '19', '87']\n",
      "Node 128 has MAC address ['2', '0', '0', '0', '0', '0', '38', '80']\n",
      "Node 129 has MAC address ['2', '0', '0', '0', '0', '0', '151', '119']\n",
      "Node 130 has MAC address ['2', '0', '0', '0', '0', '0', '48', '85']\n",
      "Node 131 has MAC address ['2', '0', '0', '0', '0', '0', '50', '89']\n",
      "Node 132 has MAC address ['2', '0', '0', '0', '0', '0', '20', '83']\n",
      "Node 133 has no MAC address\n",
      "Node 134 has MAC address ['2', '0', '0', '0', '0', '0', '16', '85']\n",
      "Node 135 has MAC address ['2', '0', '0', '0', '0', '0', '17', '88']\n",
      "Node 136 has MAC address ['2', '0', '0', '0', '0', '0', '52', '85']\n",
      "Node 137 has MAC address ['2', '0', '0', '0', '0', '0', '38', '85']\n",
      "Node 138 has MAC address ['2', '0', '0', '0', '0', '0', '35', '85']\n",
      "Node 139 has MAC address ['2', '0', '0', '0', '0', '0', '51', '83']\n",
      "Node 140 has MAC address ['2', '0', '0', '0', '0', '0', '38', '82']\n",
      "Node 141 has MAC address ['2', '0', '0', '0', '0', '0', '16', '88']\n",
      "Node 142 has MAC address ['2', '0', '0', '0', '0', '0', '22', '86']\n",
      "Node 143 has MAC address ['2', '0', '0', '0', '0', '0', '56', '98']\n",
      "Node 144 has MAC address ['2', '0', '0', '0', '0', '0', '23', '89']\n",
      "Node 145 has MAC address ['2', '0', '0', '0', '0', '0', '179', '115']\n",
      "Node 146 has MAC address ['2', '0', '0', '0', '0', '0', '177', '137']\n",
      "Node 147 has MAC address ['2', '0', '0', '0', '0', '0', '33', '81']\n",
      "Node 148 has MAC address ['2', '0', '0', '0', '0', '0', '179', '112']\n",
      "Node 149 has MAC address ['2', '0', '0', '0', '0', '0', '23', '87']\n",
      "Node 150 has MAC address ['2', '0', '0', '0', '0', '0', '16', '87']\n",
      "Node 151 has MAC address ['2', '0', '0', '0', '0', '0', '160', '144']\n",
      "Node 152 has MAC address ['2', '0', '0', '0', '0', '0', '161', '115']\n",
      "Node 153 has MAC address ['2', '0', '0', '0', '0', '0', '181', '114']\n",
      "Node 154 has MAC address ['2', '0', '0', '0', '0', '0', '176', '113']\n",
      "Node 155 has MAC address ['2', '0', '0', '0', '0', '0', '179', '114']\n",
      "Node 156 has MAC address ['2', '0', '0', '0', '0', '0', '55', '89']\n",
      "Node 157 has MAC address ['2', '0', '0', '0', '0', '0', '39', '85']\n",
      "Node 158 has MAC address ['2', '0', '0', '0', '0', '0', '33', '84']\n",
      "Node 159 has MAC address ['2', '0', '0', '0', '0', '0', '22', '87']\n",
      "Node 160 has MAC address ['2', '0', '0', '0', '0', '0', '166', '115']\n",
      "Node 161 has MAC address ['2', '0', '0', '0', '0', '0', '163', '144']\n",
      "Node 162 has MAC address ['2', '0', '0', '0', '0', '0', '40', '84']\n",
      "Node 163 has MAC address ['2', '0', '0', '0', '0', '0', '135', '116']\n",
      "Node 164 has MAC address ['2', '0', '0', '0', '0', '0', '160', '119']\n",
      "Node 165 has MAC address ['2', '0', '0', '0', '0', '0', '37', '80']\n",
      "Node 166 has MAC address ['2', '0', '0', '0', '0', '0', '48', '82']\n",
      "Node 167 has MAC address ['2', '0', '0', '0', '0', '0', '34', '86']\n",
      "Node 168 has MAC address ['2', '0', '0', '0', '0', '0', '176', '137']\n",
      "Node 169 has MAC address ['2', '0', '0', '0', '0', '0', '20', '89']\n",
      "Node 170 has MAC address ['2', '0', '0', '0', '0', '0', '182', '113']\n",
      "Node 171 has MAC address ['2', '0', '0', '0', '0', '0', '34', '88']\n",
      "Node 172 has MAC address ['2', '0', '0', '0', '0', '0', '53', '84']\n",
      "Node 173 has MAC address ['2', '0', '0', '0', '0', '0', '193', '112']\n",
      "Node 174 has MAC address ['2', '0', '0', '0', '0', '0', '146', '115']\n",
      "Node 175 has MAC address ['2', '0', '0', '0', '0', '0', '36', '89']\n",
      "Node 176 has MAC address ['2', '0', '0', '0', '0', '0', '37', '85']\n",
      "Node 177 has MAC address ['2', '0', '0', '0', '0', '0', '144', '112']\n",
      "Node 178 has MAC address ['2', '0', '0', '0', '0', '0', '164', '115']\n",
      "Node 179 has MAC address ['2', '0', '0', '0', '0', '0', '6', '96']\n",
      "Node 180 has MAC address ['2', '0', '0', '0', '0', '0', '53', '89']\n",
      "Node 181 has MAC address ['2', '0', '0', '0', '0', '0', '177', '114']\n",
      "Node 182 has MAC address ['2', '0', '0', '0', '0', '0', '40', '83']\n",
      "Node 183 has MAC address ['2', '0', '0', '0', '0', '0', '162', '112']\n",
      "Node 184 has MAC address ['2', '0', '0', '0', '0', '0', '49', '84']\n",
      "Node 185 has MAC address ['2', '0', '0', '0', '0', '0', '184', '114']\n",
      "Node 186 has MAC address ['2', '0', '0', '0', '0', '0', '180', '136']\n",
      "Node 187 has MAC address ['2', '0', '0', '0', '0', '0', '17', '84']\n",
      "Node 188 has MAC address ['2', '0', '0', '0', '0', '0', '37', '86']\n",
      "Node 189 has MAC address ['2', '0', '0', '0', '0', '0', '19', '86']\n",
      "Node 190 has MAC address ['2', '0', '0', '0', '0', '0', '7', '88']\n",
      "Node 191 has MAC address ['2', '0', '0', '0', '0', '0', '132', '115']\n",
      "Node 192 has MAC address ['2', '0', '0', '0', '0', '0', '149', '112']\n",
      "Node 193 has MAC address ['2', '0', '0', '0', '0', '0', '53', '88']\n",
      "Node 194 has MAC address ['2', '0', '0', '0', '0', '0', '17', '89']\n",
      "Node 195 has MAC address ['2', '0', '0', '0', '0', '0', '179', '136']\n",
      "Node 196 has MAC address ['2', '0', '0', '0', '0', '0', '36', '81']\n",
      "Node 197 has MAC address ['2', '0', '0', '0', '0', '0', '9', '87']\n",
      "Node 198 has MAC address ['2', '0', '0', '0', '0', '0', '24', '86']\n",
      "Node 199 has MAC address ['2', '0', '0', '0', '0', '0', '144', '115']\n",
      "Node 200 has MAC address ['2', '0', '0', '0', '0', '0', '146', '112']\n",
      "Node 201 has MAC address ['2', '0', '0', '0', '0', '0', '161', '137']\n",
      "Node 202 has MAC address ['2', '0', '0', '0', '0', '0', '152', '119']\n",
      "Node 203 has MAC address ['2', '0', '0', '0', '0', '0', '194', '115']\n",
      "Node 204 has MAC address ['2', '0', '0', '0', '0', '0', '185', '114']\n",
      "Node 205 has MAC address ['2', '0', '0', '0', '0', '0', '177', '115']\n",
      "Node 206 has MAC address ['2', '0', '0', '0', '0', '0', '40', '80']\n",
      "Node 207 has MAC address ['2', '0', '0', '0', '0', '0', '51', '89']\n",
      "Node 208 has MAC address ['2', '0', '0', '0', '0', '0', '35', '80']\n",
      "Node 209 has MAC address ['2', '0', '0', '0', '0', '0', '32', '80']\n",
      "Node 210 has MAC address ['2', '0', '0', '0', '0', '0', '24', '85']\n",
      "Node 211 has MAC address ['2', '0', '0', '0', '0', '0', '23', '84']\n",
      "Node 212 has MAC address ['2', '0', '0', '0', '0', '0', '195', '115']\n",
      "Node 213 has MAC address ['2', '0', '0', '0', '0', '0', '19', '85']\n",
      "Node 214 has MAC address ['2', '0', '0', '0', '0', '0', '41', '81']\n",
      "Node 215 has MAC address ['2', '0', '0', '0', '0', '0', '167', '113']\n",
      "Node 216 has MAC address ['2', '0', '0', '0', '0', '0', '17', '86']\n",
      "Node 217 has MAC address ['2', '0', '0', '0', '0', '0', '185', '112']\n",
      "Node 218 has MAC address ['2', '0', '0', '0', '0', '0', '179', '137']\n",
      "Node 219 has MAC address ['2', '0', '0', '0', '0', '0', '132', '116']\n",
      "Node 220 has MAC address ['2', '0', '0', '0', '0', '0', '168', '115']\n",
      "Node 221 has MAC address ['2', '0', '0', '0', '0', '0', '48', '89']\n",
      "Node 222 has MAC address ['2', '0', '0', '0', '0', '0', '145', '115']\n",
      "Node 223 has MAC address ['2', '0', '0', '0', '0', '0', '162', '137']\n",
      "Node 224 has MAC address ['2', '0', '0', '0', '0', '0', '164', '144']\n",
      "Node 225 has MAC address ['2', '0', '0', '0', '0', '0', '165', '115']\n",
      "Node 226 has MAC address ['2', '0', '0', '0', '0', '0', '149', '115']\n",
      "Node 227 has MAC address ['2', '0', '0', '0', '0', '0', '37', '89']\n",
      "Node 228 has MAC address ['2', '0', '0', '0', '0', '0', '20', '85']\n",
      "Node 229 has MAC address ['2', '0', '0', '0', '0', '0', '151', '112']\n",
      "Node 230 has MAC address ['2', '0', '0', '0', '0', '0', '39', '81']\n",
      "Node 231 has MAC address ['2', '0', '0', '0', '0', '0', '32', '82']\n",
      "Node 232 has MAC address ['2', '0', '0', '0', '0', '0', '54', '89']\n",
      "Node 233 has MAC address ['2', '0', '0', '0', '0', '0', '136', '115']\n",
      "Node 234 has MAC address ['2', '0', '0', '0', '0', '0', '18', '84']\n",
      "Node 235 has MAC address ['2', '0', '0', '0', '0', '0', '178', '112']\n",
      "Node 236 has MAC address ['2', '0', '0', '0', '0', '0', '35', '82']\n",
      "Node 237 has MAC address ['2', '0', '0', '0', '0', '0', '8', '88']\n",
      "Node 238 has MAC address ['2', '0', '0', '0', '0', '0', '147', '115']\n",
      "Node 239 has MAC address ['2', '0', '0', '0', '0', '0', '194', '112']\n",
      "Node 240 has MAC address ['2', '0', '0', '0', '0', '0', '178', '136']\n",
      "Node 241 has MAC address ['2', '0', '0', '0', '0', '0', '176', '112']\n",
      "Node 243 has MAC address ['2', '0', '0', '0', '0', '0', '176', '115']\n",
      "Node 244 has MAC address ['2', '0', '0', '0', '0', '0', '18', '88']\n",
      "Node 245 has MAC address ['2', '0', '0', '0', '0', '0', '40', '81']\n",
      "Node 246 has MAC address ['2', '0', '0', '0', '0', '0', '34', '81']\n",
      "Node 247 has MAC address ['2', '0', '0', '0', '0', '0', '37', '81']\n",
      "Node 248 has MAC address ['2', '0', '0', '0', '0', '0', '49', '83']\n",
      "Node 249 has MAC address ['2', '0', '0', '0', '0', '0', '21', '89']\n",
      "Node 250 has MAC address ['2', '0', '0', '0', '0', '0', '38', '89']\n",
      "Node 251 has MAC address ['2', '0', '0', '0', '0', '0', '36', '84']\n",
      "Node 252 has MAC address ['2', '0', '0', '0', '0', '0', '36', '88']\n",
      "Node 253 has MAC address ['2', '0', '0', '0', '0', '0', '184', '113']\n",
      "Node 254 has MAC address ['2', '0', '0', '0', '0', '0', '35', '88']\n",
      "Node 255 has MAC address ['2', '0', '0', '0', '0', '0', '179', '113']\n",
      "Node 256 has MAC address ['2', '0', '0', '0', '0', '0', '37', '84']\n"
     ]
    }
   ],
   "source": [
    "for node_id, node_data in sorted(data[\"nodes\"].items(), key=lambda x: int(x[0])):\n",
    "    #print(node_data['MAC'])\n",
    "    try:\n",
    "        # Convert MAC address string to hexadecimal format\n",
    "        mac_str = node_data['MAC'].split('.')\n",
    "        print(f\"Node {node_id} has MAC address {mac_str}\")\n",
    "    except KeyError:\n",
    "        print(f\"Node {node_id} has no MAC address\")"
   ]
  },
  {
   "cell_type": "code",
   "execution_count": null,
   "id": "1666d717-dbb0-49d2-92e0-45d746f9a306",
   "metadata": {},
   "outputs": [],
   "source": []
  },
  {
   "cell_type": "code",
   "execution_count": null,
   "id": "b62b09e0-87a7-42eb-ad1f-5a1afa051bcd",
   "metadata": {},
   "outputs": [],
   "source": []
  }
 ],
 "metadata": {
  "kernelspec": {
   "display_name": "Python 3 (ipykernel)",
   "language": "python",
   "name": "python3"
  },
  "language_info": {
   "codemirror_mode": {
    "name": "ipython",
    "version": 3
   },
   "file_extension": ".py",
   "mimetype": "text/x-python",
   "name": "python",
   "nbconvert_exporter": "python",
   "pygments_lexer": "ipython3",
   "version": "3.8.10"
  }
 },
 "nbformat": 4,
 "nbformat_minor": 5
}
