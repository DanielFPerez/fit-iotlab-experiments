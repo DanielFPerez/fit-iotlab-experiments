{
 "cells": [
  {
   "cell_type": "code",
   "execution_count": 1,
   "id": "27690939-5306-4e63-b7a1-e6e6495630fe",
   "metadata": {},
   "outputs": [],
   "source": [
    "import json\n",
    "import re"
   ]
  },
  {
   "cell_type": "code",
   "execution_count": 2,
   "id": "c9f49f1f-36ce-4130-a585-b141108f455e",
   "metadata": {},
   "outputs": [],
   "source": [
    "# Load the JSON data\n",
    "\n",
    "experiment = '407285'\n",
    "site = 'lille'\n",
    "\n",
    "metadata_PATH = f\"./{site}-nodes_metadata.json\"\n",
    "mac_PATH = f'../experiments/{experiment}/serial_output.txt'\n",
    "\n",
    "dst_FILE = f\"./{site}-nodes_metadata_with-mac.json\"\n",
    "\n",
    "with open(metadata_PATH, 'rb') as json_file:\n",
    "    data = json.load(json_file)"
   ]
  },
  {
   "cell_type": "code",
   "execution_count": 3,
   "id": "65159a0f-daae-4edd-8976-3c452708826b",
   "metadata": {},
   "outputs": [
    {
     "data": {
      "text/plain": [
       "{'x': 22.11, 'y': 12.5, 'z': 9.6, 'id': '233', 'uid': '8873'}"
      ]
     },
     "execution_count": 3,
     "metadata": {},
     "output_type": "execute_result"
    }
   ],
   "source": [
    "data['nodes']['233']"
   ]
  },
  {
   "cell_type": "code",
   "execution_count": 4,
   "id": "c9b73f49-9001-40db-b2b5-c9c87ab06f50",
   "metadata": {},
   "outputs": [
    {
     "name": "stdout",
     "output_type": "stream",
     "text": [
      "ID 140\tMAC:2.0.0.0.0.0.38.82\tSHORT-MAC: 38.82\n",
      "ID 111\tMAC:2.0.0.0.0.0.34.87\tSHORT-MAC: 34.87\n",
      "ID 168\tMAC:2.0.0.0.0.0.176.137\tSHORT-MAC: 176.137\n",
      "ID 85\tMAC:2.0.0.0.0.0.151.115\tSHORT-MAC: 151.115\n",
      "ID 6\tMAC:2.0.0.0.0.0.21.84\tSHORT-MAC: 21.84\n",
      "ID 108\tMAC:2.0.0.0.0.0.22.88\tSHORT-MAC: 22.88\n",
      "ID 3\tMAC:2.0.0.0.0.0.21.82\tSHORT-MAC: 21.82\n",
      "ID 153\tMAC:2.0.0.0.0.0.181.114\tSHORT-MAC: 181.114\n",
      "ID 160\tMAC:2.0.0.0.0.0.166.115\tSHORT-MAC: 166.115\n",
      "ID 106\tMAC:2.0.0.0.0.0.168.113\tSHORT-MAC: 168.113\n",
      "ID 4\tMAC:2.0.0.0.0.0.56.89\tSHORT-MAC: 56.89\n",
      "ID 137\tMAC:2.0.0.0.0.0.38.85\tSHORT-MAC: 38.85\n",
      "ID 72\tMAC:2.0.0.0.0.0.153.119\tSHORT-MAC: 153.119\n",
      "ID 163\tMAC:2.0.0.0.0.0.135.116\tSHORT-MAC: 135.116\n",
      "ID 25\tMAC:2.0.0.0.0.0.39.88\tSHORT-MAC: 39.88\n",
      "ID 247\tMAC:2.0.0.0.0.0.37.81\tSHORT-MAC: 37.81\n",
      "ID 89\tMAC:2.0.0.0.0.0.169.144\tSHORT-MAC: 169.144\n",
      "ID 109\tMAC:2.0.0.0.0.0.134.115\tSHORT-MAC: 134.115\n",
      "ID 116\tMAC:2.0.0.0.0.0.33.80\tSHORT-MAC: 33.80\n",
      "ID 215\tMAC:2.0.0.0.0.0.167.113\tSHORT-MAC: 167.113\n",
      "stopped printing debug info\n"
     ]
    }
   ],
   "source": [
    "ids = []\n",
    "# Parse the .txt file\n",
    "with open(mac_PATH, 'r') as txt_file:\n",
    "    for line in txt_file:\n",
    "        # Extract node_id and MAC address\n",
    "        match = re.search(r\"m3-(\\d+);MAC address: { ([\\d.]+) }\", line)\n",
    "        if match:\n",
    "            node_id = int(match.group(1))\n",
    "            mac_address = match.group(2)\n",
    "            mac_parts = mac_address.split('.')\n",
    "            last_two_mac = f\"{mac_parts[-2]}.{mac_parts[-1]}\" if len(mac_parts) >= 2 else mac_address\n",
    "\n",
    "            if len(ids) < 20: \n",
    "                print(f\"ID {node_id}\\tMAC:{mac_address}\\tSHORT-MAC: {last_two_mac}\")\n",
    "            elif len(ids) == 20: \n",
    "                print(f\"stopped printing debug info\")\n",
    "            \n",
    "            # Find the node in the JSON data and append the MAC information\n",
    "            data['nodes'][str(node_id)]['MAC'] = mac_address\n",
    "            data['nodes'][str(node_id)]['MAC-SHORT'] = last_two_mac\n",
    "        \n",
    "            ids.append(node_id)"
   ]
  },
  {
   "cell_type": "code",
   "execution_count": 5,
   "id": "d1d3e736-a75d-431e-ab1a-719c0cac7940",
   "metadata": {},
   "outputs": [
    {
     "name": "stdout",
     "output_type": "stream",
     "text": [
      "MAC address for 232 nodes added\n"
     ]
    }
   ],
   "source": [
    "print(f\"MAC address for {len(ids)} nodes added\")"
   ]
  },
  {
   "cell_type": "code",
   "execution_count": 6,
   "id": "4e5d4d3b-795f-4951-9a95-16cf34f45073",
   "metadata": {},
   "outputs": [
    {
     "name": "stdout",
     "output_type": "stream",
     "text": [
      "NO MAC ADDRESS FOR NODE: 8, ID: 8\n",
      "NO MAC ADDRESS FOR NODE: 99, ID: 99\n",
      "NO MAC ADDRESS FOR NODE: 133, ID: 133\n"
     ]
    }
   ],
   "source": [
    "# Check that all node elems in json have attribute MAC\n",
    "for node_id, item in data['nodes'].items():\n",
    "    if 'MAC' not in item:\n",
    "        print(f\"NO MAC ADDRESS FOR NODE: {item['id']}, ID: {node_id}\")"
   ]
  },
  {
   "cell_type": "code",
   "execution_count": null,
   "id": "501b98e6-24ae-491e-965d-da86c8d55992",
   "metadata": {},
   "outputs": [],
   "source": []
  },
  {
   "cell_type": "code",
   "execution_count": 7,
   "id": "15fd9619-e569-457f-b9ad-c49fb18523f1",
   "metadata": {},
   "outputs": [
    {
     "name": "stdout",
     "output_type": "stream",
     "text": [
      "MAC addresses appended successfully.\n"
     ]
    }
   ],
   "source": [
    "# Save the updated JSON data\n",
    "with open(dst_FILE, 'w') as json_file:\n",
    "    json.dump(data, json_file, indent=4)\n",
    "\n",
    "print(\"MAC addresses appended successfully.\")"
   ]
  },
  {
   "cell_type": "code",
   "execution_count": null,
   "id": "c79ce73c-b847-42f3-9a59-a5cf049f3abd",
   "metadata": {},
   "outputs": [],
   "source": []
  },
  {
   "cell_type": "code",
   "execution_count": null,
   "id": "314956b1-f675-4329-bc44-b5604b6f3fad",
   "metadata": {},
   "outputs": [],
   "source": []
  },
  {
   "cell_type": "code",
   "execution_count": null,
   "id": "a20cdac2-306e-4bc7-8ed4-b4641586ece5",
   "metadata": {},
   "outputs": [],
   "source": []
  },
  {
   "cell_type": "code",
   "execution_count": null,
   "id": "1666d717-dbb0-49d2-92e0-45d746f9a306",
   "metadata": {},
   "outputs": [],
   "source": []
  },
  {
   "cell_type": "code",
   "execution_count": null,
   "id": "b62b09e0-87a7-42eb-ad1f-5a1afa051bcd",
   "metadata": {},
   "outputs": [],
   "source": []
  }
 ],
 "metadata": {
  "kernelspec": {
   "display_name": "Python 3 (ipykernel)",
   "language": "python",
   "name": "python3"
  },
  "language_info": {
   "codemirror_mode": {
    "name": "ipython",
    "version": 3
   },
   "file_extension": ".py",
   "mimetype": "text/x-python",
   "name": "python",
   "nbconvert_exporter": "python",
   "pygments_lexer": "ipython3",
   "version": "3.10.12"
  }
 },
 "nbformat": 4,
 "nbformat_minor": 5
}
